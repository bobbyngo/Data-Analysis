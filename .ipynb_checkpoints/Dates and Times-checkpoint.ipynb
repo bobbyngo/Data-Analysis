{
 "cells": [
  {
   "cell_type": "code",
   "execution_count": 2,
   "id": "21835959",
   "metadata": {},
   "outputs": [],
   "source": [
    "import pandas as pd\n",
    "import datetime as dt"
   ]
  },
  {
   "cell_type": "code",
   "execution_count": 7,
   "id": "18612c52",
   "metadata": {},
   "outputs": [
    {
     "data": {
      "text/plain": [
       "2016"
      ]
     },
     "execution_count": 7,
     "metadata": {},
     "output_type": "execute_result"
    }
   ],
   "source": [
    "# datetime module\n",
    "someday = dt.date(2016, 4, 12)\n",
    "someday.year"
   ]
  },
  {
   "cell_type": "code",
   "execution_count": 11,
   "id": "31d34853",
   "metadata": {},
   "outputs": [
    {
     "data": {
      "text/plain": [
       "'2010-01-10 17:13:57'"
      ]
     },
     "execution_count": 11,
     "metadata": {},
     "output_type": "execute_result"
    }
   ],
   "source": [
    "str(dt.datetime(2010,1,10, 17, 13, 57))"
   ]
  },
  {
   "cell_type": "code",
   "execution_count": 14,
   "id": "4f295023",
   "metadata": {},
   "outputs": [
    {
     "data": {
      "text/plain": [
       "Timestamp('2021-02-20 00:00:00')"
      ]
     },
     "execution_count": 14,
     "metadata": {},
     "output_type": "execute_result"
    }
   ],
   "source": [
    "#Timestamp object\n",
    "pd.Timestamp('2015-03-31')\n",
    "pd.Timestamp('12-2-2021')\n",
    "pd.Timestamp('2-20-2021')"
   ]
  },
  {
   "cell_type": "code",
   "execution_count": 15,
   "id": "95eb5a7a",
   "metadata": {},
   "outputs": [
    {
     "data": {
      "text/plain": [
       "DatetimeIndex(['2020-01-02', '2012-12-02', '2003-06-12'], dtype='datetime64[ns]', freq=None)"
      ]
     },
     "execution_count": 15,
     "metadata": {},
     "output_type": "execute_result"
    }
   ],
   "source": [
    "#DateTimeIndex obj\n",
    "dates = [\"2020-01-02\", \"2012-12-2\", \"2003-06-12\"]\n",
    "pd.DatetimeIndex(dates)"
   ]
  },
  {
   "cell_type": "code",
   "execution_count": 17,
   "id": "81bf83e0",
   "metadata": {},
   "outputs": [
    {
     "data": {
      "text/plain": [
       "2020-01-20    100\n",
       "1995-02-12    200\n",
       "2005-03-04    300\n",
       "dtype: int64"
      ]
     },
     "execution_count": 17,
     "metadata": {},
     "output_type": "execute_result"
    }
   ],
   "source": [
    "dates = [dt.date(2020, 1, 20), dt.date(1995, 2, 12), dt.date(2005, 3, 4)]\n",
    "dtIndex = pd.DatetimeIndex(dates)\n",
    "values = [100, 200, 300]\n",
    "pd.Series(data = values, index = dtIndex)"
   ]
  },
  {
   "cell_type": "code",
   "execution_count": 20,
   "id": "33cea4a5",
   "metadata": {},
   "outputs": [
    {
     "data": {
      "text/plain": [
       "DatetimeIndex(['2015-03-12', '2023-12-01', '1899-06-04'], dtype='datetime64[ns]', freq=None)"
      ]
     },
     "execution_count": 20,
     "metadata": {},
     "output_type": "execute_result"
    }
   ],
   "source": [
    "# pd.to_datetime() method\n",
    "pd.to_datetime(\"2001-12-21\")\n",
    "pd.to_datetime([\"2015-03-12\", \"2023/12/1\", \"June 4th, 1899\"])"
   ]
  },
  {
   "cell_type": "code",
   "execution_count": 21,
   "id": "ede3e9b1",
   "metadata": {},
   "outputs": [
    {
     "data": {
      "text/plain": [
       "0        2015-03-12\n",
       "1         2023/12/1\n",
       "2    June 4th, 1899\n",
       "dtype: object"
      ]
     },
     "execution_count": 21,
     "metadata": {},
     "output_type": "execute_result"
    }
   ],
   "source": [
    "times = pd.Series([\"2015-03-12\", \"2023/12/1\", \"June 4th, 1899\"])\n",
    "times"
   ]
  },
  {
   "cell_type": "code",
   "execution_count": 22,
   "id": "1a0391f8",
   "metadata": {},
   "outputs": [
    {
     "data": {
      "text/plain": [
       "0   2015-03-12\n",
       "1   2023-12-01\n",
       "2   1899-06-04\n",
       "dtype: datetime64[ns]"
      ]
     },
     "execution_count": 22,
     "metadata": {},
     "output_type": "execute_result"
    }
   ],
   "source": [
    "pd.to_datetime(times)"
   ]
  },
  {
   "cell_type": "code",
   "execution_count": 24,
   "id": "76f3c8ab",
   "metadata": {},
   "outputs": [
    {
     "data": {
      "text/plain": [
       "0             Hello\n",
       "1         2023/2/31\n",
       "2    June 4th, 1899\n",
       "dtype: object"
      ]
     },
     "execution_count": 24,
     "metadata": {},
     "output_type": "execute_result"
    }
   ],
   "source": [
    "times = pd.Series([\"Hello\", \"2023/2/31\", \"June 4th, 1899\"])\n",
    "times"
   ]
  },
  {
   "cell_type": "code",
   "execution_count": 26,
   "id": "e9055392",
   "metadata": {},
   "outputs": [
    {
     "data": {
      "text/plain": [
       "0          NaT\n",
       "1          NaT\n",
       "2   1899-06-04\n",
       "dtype: datetime64[ns]"
      ]
     },
     "execution_count": 26,
     "metadata": {},
     "output_type": "execute_result"
    }
   ],
   "source": [
    "pd.to_datetime(times, errors = \"coerce\")"
   ]
  },
  {
   "cell_type": "code",
   "execution_count": 29,
   "id": "22643aa6",
   "metadata": {},
   "outputs": [
    {
     "data": {
      "text/plain": [
       "DatetimeIndex(['2016-01-03', '2016-01-10'], dtype='datetime64[ns]', freq='W-SUN')"
      ]
     },
     "execution_count": 29,
     "metadata": {},
     "output_type": "execute_result"
    }
   ],
   "source": [
    "#pd.date_range()\n",
    "pd.date_range(start = \"2016-01-01\", end = \"2016-01-10\", freq = 'D')\n",
    "pd.date_range(start = \"2016-01-01\", end = \"2016-01-10\", freq = 'B')\n",
    "pd.date_range(start = \"2016-01-01\", end = \"2016-01-10\", freq = 'W') #A lot of options for freq arguments, check the docs"
   ]
  },
  {
   "cell_type": "code",
   "execution_count": 30,
   "id": "2433e0a6",
   "metadata": {},
   "outputs": [
    {
     "data": {
      "text/plain": [
       "DatetimeIndex(['2016-01-01', '2016-01-02', '2016-01-03', '2016-01-04',\n",
       "               '2016-01-05', '2016-01-06', '2016-01-07', '2016-01-08',\n",
       "               '2016-01-09', '2016-01-10', '2016-01-11', '2016-01-12',\n",
       "               '2016-01-13', '2016-01-14', '2016-01-15', '2016-01-16',\n",
       "               '2016-01-17', '2016-01-18', '2016-01-19', '2016-01-20',\n",
       "               '2016-01-21', '2016-01-22', '2016-01-23', '2016-01-24',\n",
       "               '2016-01-25'],\n",
       "              dtype='datetime64[ns]', freq='D')"
      ]
     },
     "execution_count": 30,
     "metadata": {},
     "output_type": "execute_result"
    }
   ],
   "source": [
    "pd.date_range(start = \"2016-01-01\", periods = 25, freq = 'D')"
   ]
  },
  {
   "cell_type": "code",
   "execution_count": 31,
   "id": "ababb9b3",
   "metadata": {},
   "outputs": [
    {
     "data": {
      "text/plain": [
       "DatetimeIndex(['1999-12-12', '1999-12-13', '1999-12-14', '1999-12-15',\n",
       "               '1999-12-16', '1999-12-17', '1999-12-18', '1999-12-19',\n",
       "               '1999-12-20', '1999-12-21', '1999-12-22', '1999-12-23',\n",
       "               '1999-12-24', '1999-12-25', '1999-12-26', '1999-12-27',\n",
       "               '1999-12-28', '1999-12-29', '1999-12-30', '1999-12-31'],\n",
       "              dtype='datetime64[ns]', freq='D')"
      ]
     },
     "execution_count": 31,
     "metadata": {},
     "output_type": "execute_result"
    }
   ],
   "source": [
    "pd.date_range(end=\"1999-12-31\", periods = 20, freq = 'D')"
   ]
  },
  {
   "cell_type": "code",
   "execution_count": 35,
   "id": "a9e59f04",
   "metadata": {},
   "outputs": [
    {
     "data": {
      "text/plain": [
       "0   2000-01-01\n",
       "1   2000-01-25\n",
       "2   2000-02-18\n",
       "dtype: datetime64[ns]"
      ]
     },
     "execution_count": 35,
     "metadata": {},
     "output_type": "execute_result"
    }
   ],
   "source": [
    "# dt accessor\n",
    "dates = pd.date_range(start=\"2000-01-01\", end = \"2010-12-31\", freq = \"24D\")\n",
    "s = pd.Series(dates)\n",
    "s.head(3)"
   ]
  },
  {
   "cell_type": "code",
   "execution_count": 37,
   "id": "9e625948",
   "metadata": {},
   "outputs": [
    {
     "data": {
      "text/plain": [
       "0       Saturday\n",
       "1        Tuesday\n",
       "2         Friday\n",
       "3         Monday\n",
       "4       Thursday\n",
       "         ...    \n",
       "163       Friday\n",
       "164       Monday\n",
       "165     Thursday\n",
       "166       Sunday\n",
       "167    Wednesday\n",
       "Name: Date, Length: 168, dtype: object"
      ]
     },
     "execution_count": 37,
     "metadata": {},
     "output_type": "execute_result"
    }
   ],
   "source": [
    "df = pd.DataFrame(dates)\n",
    "df.rename(columns={0: \"Date\"}, inplace=True)\n",
    "df[\"Date\"].dt.day_name()"
   ]
  },
  {
   "cell_type": "code",
   "execution_count": 38,
   "id": "d23676ee",
   "metadata": {},
   "outputs": [
    {
     "data": {
      "text/plain": [
       "0     2000-01-01\n",
       "19    2001-04-01\n",
       "38    2002-07-01\n",
       "137   2009-01-01\n",
       "dtype: datetime64[ns]"
      ]
     },
     "execution_count": 38,
     "metadata": {},
     "output_type": "execute_result"
    }
   ],
   "source": [
    "mask = s.dt.is_quarter_start\n",
    "s[mask]"
   ]
  },
  {
   "cell_type": "code",
   "execution_count": 1,
   "id": "ccd2733c",
   "metadata": {},
   "outputs": [],
   "source": [
    "# financial dataset\n",
    "import pandas as pd\n",
    "import datetime as dt\n",
    "from pandas_datareader import data"
   ]
  },
  {
   "cell_type": "code",
   "execution_count": 5,
   "id": "1649cf15",
   "metadata": {},
   "outputs": [
    {
     "data": {
      "text/html": [
       "<div>\n",
       "<style scoped>\n",
       "    .dataframe tbody tr th:only-of-type {\n",
       "        vertical-align: middle;\n",
       "    }\n",
       "\n",
       "    .dataframe tbody tr th {\n",
       "        vertical-align: top;\n",
       "    }\n",
       "\n",
       "    .dataframe thead th {\n",
       "        text-align: right;\n",
       "    }\n",
       "</style>\n",
       "<table border=\"1\" class=\"dataframe\">\n",
       "  <thead>\n",
       "    <tr style=\"text-align: right;\">\n",
       "      <th></th>\n",
       "      <th>Open</th>\n",
       "      <th>High</th>\n",
       "      <th>Low</th>\n",
       "      <th>Close</th>\n",
       "      <th>Volume</th>\n",
       "    </tr>\n",
       "    <tr>\n",
       "      <th>Date</th>\n",
       "      <th></th>\n",
       "      <th></th>\n",
       "      <th></th>\n",
       "      <th></th>\n",
       "      <th></th>\n",
       "    </tr>\n",
       "  </thead>\n",
       "  <tbody>\n",
       "    <tr>\n",
       "      <th>2020-12-31</th>\n",
       "      <td>217.822</td>\n",
       "      <td>219.104</td>\n",
       "      <td>215.838</td>\n",
       "      <td>218.528</td>\n",
       "      <td>2.131555e+07</td>\n",
       "    </tr>\n",
       "    <tr>\n",
       "      <th>2020-12-30</th>\n",
       "      <td>221.277</td>\n",
       "      <td>221.674</td>\n",
       "      <td>217.595</td>\n",
       "      <td>217.802</td>\n",
       "      <td>2.063381e+07</td>\n",
       "    </tr>\n",
       "    <tr>\n",
       "      <th>2020-12-29</th>\n",
       "      <td>222.350</td>\n",
       "      <td>223.214</td>\n",
       "      <td>219.659</td>\n",
       "      <td>220.205</td>\n",
       "      <td>1.771353e+07</td>\n",
       "    </tr>\n",
       "  </tbody>\n",
       "</table>\n",
       "</div>"
      ],
      "text/plain": [
       "               Open     High      Low    Close        Volume\n",
       "Date                                                        \n",
       "2020-12-31  217.822  219.104  215.838  218.528  2.131555e+07\n",
       "2020-12-30  221.277  221.674  217.595  217.802  2.063381e+07\n",
       "2020-12-29  222.350  223.214  219.659  220.205  1.771353e+07"
      ]
     },
     "execution_count": 5,
     "metadata": {},
     "output_type": "execute_result"
    }
   ],
   "source": [
    "stocks = data.DataReader(name=\"MSFT\", data_source = \"stooq\", start = \"2010-01-01\", end=\"2020-12-31\")\n",
    "stocks.head(3)"
   ]
  },
  {
   "cell_type": "code",
   "execution_count": 6,
   "id": "0b2d8850",
   "metadata": {},
   "outputs": [
    {
     "data": {
      "text/plain": [
       "Open      2.408540e+01\n",
       "High      2.443890e+01\n",
       "Low       2.403580e+01\n",
       "Close     2.431780e+01\n",
       "Volume    4.886916e+07\n",
       "Name: 2010-01-04 00:00:00, dtype: float64"
      ]
     },
     "execution_count": 6,
     "metadata": {},
     "output_type": "execute_result"
    }
   ],
   "source": [
    "stocks.loc[pd.Timestamp(\"2010-01-04\")]"
   ]
  },
  {
   "cell_type": "code",
   "execution_count": 8,
   "id": "9ff82488",
   "metadata": {},
   "outputs": [
    {
     "data": {
      "text/html": [
       "<div>\n",
       "<style scoped>\n",
       "    .dataframe tbody tr th:only-of-type {\n",
       "        vertical-align: middle;\n",
       "    }\n",
       "\n",
       "    .dataframe tbody tr th {\n",
       "        vertical-align: top;\n",
       "    }\n",
       "\n",
       "    .dataframe thead th {\n",
       "        text-align: right;\n",
       "    }\n",
       "</style>\n",
       "<table border=\"1\" class=\"dataframe\">\n",
       "  <thead>\n",
       "    <tr style=\"text-align: right;\">\n",
       "      <th></th>\n",
       "      <th>Open</th>\n",
       "      <th>High</th>\n",
       "      <th>Low</th>\n",
       "      <th>Close</th>\n",
       "      <th>Volume</th>\n",
       "    </tr>\n",
       "    <tr>\n",
       "      <th>Date</th>\n",
       "      <th></th>\n",
       "      <th></th>\n",
       "      <th></th>\n",
       "      <th></th>\n",
       "      <th></th>\n",
       "    </tr>\n",
       "  </thead>\n",
       "  <tbody>\n",
       "    <tr>\n",
       "      <th>2010-01-04</th>\n",
       "      <td>24.0854</td>\n",
       "      <td>24.4389</td>\n",
       "      <td>24.0358</td>\n",
       "      <td>24.3178</td>\n",
       "      <td>4.886916e+07</td>\n",
       "    </tr>\n",
       "    <tr>\n",
       "      <th>2010-01-05</th>\n",
       "      <td>24.2542</td>\n",
       "      <td>24.4389</td>\n",
       "      <td>24.0765</td>\n",
       "      <td>24.3267</td>\n",
       "      <td>6.331174e+07</td>\n",
       "    </tr>\n",
       "  </tbody>\n",
       "</table>\n",
       "</div>"
      ],
      "text/plain": [
       "               Open     High      Low    Close        Volume\n",
       "Date                                                        \n",
       "2010-01-04  24.0854  24.4389  24.0358  24.3178  4.886916e+07\n",
       "2010-01-05  24.2542  24.4389  24.0765  24.3267  6.331174e+07"
      ]
     },
     "execution_count": 8,
     "metadata": {},
     "output_type": "execute_result"
    }
   ],
   "source": [
    "stocks.loc[[pd.Timestamp(\"2010-01-04\"), pd.Timestamp(\"2010-01-05\")]]"
   ]
  },
  {
   "cell_type": "code",
   "execution_count": 10,
   "id": "1e19c6f5",
   "metadata": {},
   "outputs": [
    {
     "name": "stderr",
     "output_type": "stream",
     "text": [
      "C:\\Users\\DELL\\AppData\\Local\\Temp\\ipykernel_12472\\2814904150.py:1: FutureWarning: Value based partial slicing on non-monotonic DatetimeIndexes with non-existing keys is deprecated and will raise a KeyError in a future Version.\n",
      "  stocks.loc[\"2013-01-01\" : \"2013-02-01\"]\n"
     ]
    },
    {
     "data": {
      "text/html": [
       "<div>\n",
       "<style scoped>\n",
       "    .dataframe tbody tr th:only-of-type {\n",
       "        vertical-align: middle;\n",
       "    }\n",
       "\n",
       "    .dataframe tbody tr th {\n",
       "        vertical-align: top;\n",
       "    }\n",
       "\n",
       "    .dataframe thead th {\n",
       "        text-align: right;\n",
       "    }\n",
       "</style>\n",
       "<table border=\"1\" class=\"dataframe\">\n",
       "  <thead>\n",
       "    <tr style=\"text-align: right;\">\n",
       "      <th></th>\n",
       "      <th>Open</th>\n",
       "      <th>High</th>\n",
       "      <th>Low</th>\n",
       "      <th>Close</th>\n",
       "      <th>Volume</th>\n",
       "    </tr>\n",
       "    <tr>\n",
       "      <th>Date</th>\n",
       "      <th></th>\n",
       "      <th></th>\n",
       "      <th></th>\n",
       "      <th></th>\n",
       "      <th></th>\n",
       "    </tr>\n",
       "  </thead>\n",
       "  <tbody>\n",
       "    <tr>\n",
       "      <th>2013-01-10</th>\n",
       "      <td>21.9729</td>\n",
       "      <td>22.2498</td>\n",
       "      <td>21.6761</td>\n",
       "      <td>21.8190</td>\n",
       "      <td>8.660975e+07</td>\n",
       "    </tr>\n",
       "    <tr>\n",
       "      <th>2013-01-09</th>\n",
       "      <td>22.0314</td>\n",
       "      <td>22.0543</td>\n",
       "      <td>21.9024</td>\n",
       "      <td>22.0166</td>\n",
       "      <td>5.947370e+07</td>\n",
       "    </tr>\n",
       "    <tr>\n",
       "      <th>2013-01-08</th>\n",
       "      <td>22.0543</td>\n",
       "      <td>22.0871</td>\n",
       "      <td>21.8190</td>\n",
       "      <td>21.8935</td>\n",
       "      <td>5.420177e+07</td>\n",
       "    </tr>\n",
       "    <tr>\n",
       "      <th>2013-01-07</th>\n",
       "      <td>22.0691</td>\n",
       "      <td>22.1654</td>\n",
       "      <td>21.9639</td>\n",
       "      <td>22.0096</td>\n",
       "      <td>4.501004e+07</td>\n",
       "    </tr>\n",
       "    <tr>\n",
       "      <th>2013-01-04</th>\n",
       "      <td>22.4841</td>\n",
       "      <td>22.5427</td>\n",
       "      <td>22.0394</td>\n",
       "      <td>22.0464</td>\n",
       "      <td>6.368822e+07</td>\n",
       "    </tr>\n",
       "    <tr>\n",
       "      <th>2013-01-03</th>\n",
       "      <td>22.7850</td>\n",
       "      <td>22.8018</td>\n",
       "      <td>22.3978</td>\n",
       "      <td>22.4693</td>\n",
       "      <td>5.856983e+07</td>\n",
       "    </tr>\n",
       "    <tr>\n",
       "      <th>2013-01-02</th>\n",
       "      <td>22.4693</td>\n",
       "      <td>22.8654</td>\n",
       "      <td>22.3908</td>\n",
       "      <td>22.7760</td>\n",
       "      <td>6.415710e+07</td>\n",
       "    </tr>\n",
       "  </tbody>\n",
       "</table>\n",
       "</div>"
      ],
      "text/plain": [
       "               Open     High      Low    Close        Volume\n",
       "Date                                                        \n",
       "2013-01-10  21.9729  22.2498  21.6761  21.8190  8.660975e+07\n",
       "2013-01-09  22.0314  22.0543  21.9024  22.0166  5.947370e+07\n",
       "2013-01-08  22.0543  22.0871  21.8190  21.8935  5.420177e+07\n",
       "2013-01-07  22.0691  22.1654  21.9639  22.0096  4.501004e+07\n",
       "2013-01-04  22.4841  22.5427  22.0394  22.0464  6.368822e+07\n",
       "2013-01-03  22.7850  22.8018  22.3978  22.4693  5.856983e+07\n",
       "2013-01-02  22.4693  22.8654  22.3908  22.7760  6.415710e+07"
      ]
     },
     "execution_count": 10,
     "metadata": {},
     "output_type": "execute_result"
    }
   ],
   "source": [
    "stocks.loc[\"2013-01-01\" : \"2013-02-01\"]\n",
    "stocks.truncate(before=\"2013-01-01\", after = \"2013-01-10\")\n",
    "# not exclusive for last index"
   ]
  },
  {
   "cell_type": "code",
   "execution_count": 12,
   "id": "ada692eb",
   "metadata": {},
   "outputs": [
    {
     "data": {
      "text/html": [
       "<div>\n",
       "<style scoped>\n",
       "    .dataframe tbody tr th:only-of-type {\n",
       "        vertical-align: middle;\n",
       "    }\n",
       "\n",
       "    .dataframe tbody tr th {\n",
       "        vertical-align: top;\n",
       "    }\n",
       "\n",
       "    .dataframe thead th {\n",
       "        text-align: right;\n",
       "    }\n",
       "</style>\n",
       "<table border=\"1\" class=\"dataframe\">\n",
       "  <thead>\n",
       "    <tr style=\"text-align: right;\">\n",
       "      <th></th>\n",
       "      <th>Open</th>\n",
       "      <th>High</th>\n",
       "      <th>Low</th>\n",
       "      <th>Close</th>\n",
       "      <th>Volume</th>\n",
       "    </tr>\n",
       "    <tr>\n",
       "      <th>Date</th>\n",
       "      <th></th>\n",
       "      <th></th>\n",
       "      <th></th>\n",
       "      <th></th>\n",
       "      <th></th>\n",
       "    </tr>\n",
       "  </thead>\n",
       "  <tbody>\n",
       "    <tr>\n",
       "      <th>2017-01-11</th>\n",
       "      <td>57.6727</td>\n",
       "      <td>58.2436</td>\n",
       "      <td>57.5069</td>\n",
       "      <td>58.2079</td>\n",
       "      <td>2.218117e+07</td>\n",
       "    </tr>\n",
       "    <tr>\n",
       "      <th>2017-01-10</th>\n",
       "      <td>57.7830</td>\n",
       "      <td>58.0976</td>\n",
       "      <td>57.3689</td>\n",
       "      <td>57.6816</td>\n",
       "      <td>1.849459e+07</td>\n",
       "    </tr>\n",
       "    <tr>\n",
       "      <th>2017-01-09</th>\n",
       "      <td>57.8097</td>\n",
       "      <td>58.1075</td>\n",
       "      <td>57.6073</td>\n",
       "      <td>57.7015</td>\n",
       "      <td>2.018532e+07</td>\n",
       "    </tr>\n",
       "    <tr>\n",
       "      <th>2017-01-06</th>\n",
       "      <td>57.3868</td>\n",
       "      <td>58.1701</td>\n",
       "      <td>57.1456</td>\n",
       "      <td>57.8842</td>\n",
       "      <td>1.907929e+07</td>\n",
       "    </tr>\n",
       "    <tr>\n",
       "      <th>2017-01-05</th>\n",
       "      <td>57.2856</td>\n",
       "      <td>57.7193</td>\n",
       "      <td>57.1357</td>\n",
       "      <td>57.3868</td>\n",
       "      <td>2.318354e+07</td>\n",
       "    </tr>\n",
       "  </tbody>\n",
       "</table>\n",
       "</div>"
      ],
      "text/plain": [
       "               Open     High      Low    Close        Volume\n",
       "Date                                                        \n",
       "2017-01-11  57.6727  58.2436  57.5069  58.2079  2.218117e+07\n",
       "2017-01-10  57.7830  58.0976  57.3689  57.6816  1.849459e+07\n",
       "2017-01-09  57.8097  58.1075  57.6073  57.7015  2.018532e+07\n",
       "2017-01-06  57.3868  58.1701  57.1456  57.8842  1.907929e+07\n",
       "2017-01-05  57.2856  57.7193  57.1357  57.3868  2.318354e+07"
      ]
     },
     "execution_count": 12,
     "metadata": {},
     "output_type": "execute_result"
    }
   ],
   "source": [
    "#exclusive for last index\n",
    "stocks.iloc[1000:1005]"
   ]
  },
  {
   "cell_type": "code",
   "execution_count": 15,
   "id": "57012f77",
   "metadata": {},
   "outputs": [],
   "source": [
    "birthdays = pd.date_range(start=\"2001-06-24\", end=\"2023-12-31\", freq = pd.DateOffset(years = 1))"
   ]
  },
  {
   "cell_type": "code",
   "execution_count": 16,
   "id": "d0399a35",
   "metadata": {},
   "outputs": [],
   "source": [
    "birthday_stocks = stocks.index.isin(birthdays)"
   ]
  },
  {
   "cell_type": "code",
   "execution_count": 17,
   "id": "e7a6aff1",
   "metadata": {},
   "outputs": [
    {
     "data": {
      "text/html": [
       "<div>\n",
       "<style scoped>\n",
       "    .dataframe tbody tr th:only-of-type {\n",
       "        vertical-align: middle;\n",
       "    }\n",
       "\n",
       "    .dataframe tbody tr th {\n",
       "        vertical-align: top;\n",
       "    }\n",
       "\n",
       "    .dataframe thead th {\n",
       "        text-align: right;\n",
       "    }\n",
       "</style>\n",
       "<table border=\"1\" class=\"dataframe\">\n",
       "  <thead>\n",
       "    <tr style=\"text-align: right;\">\n",
       "      <th></th>\n",
       "      <th>Open</th>\n",
       "      <th>High</th>\n",
       "      <th>Low</th>\n",
       "      <th>Close</th>\n",
       "      <th>Volume</th>\n",
       "    </tr>\n",
       "    <tr>\n",
       "      <th>Date</th>\n",
       "      <th></th>\n",
       "      <th></th>\n",
       "      <th></th>\n",
       "      <th></th>\n",
       "      <th></th>\n",
       "    </tr>\n",
       "  </thead>\n",
       "  <tbody>\n",
       "    <tr>\n",
       "      <th>2020-06-24</th>\n",
       "      <td>197.0840</td>\n",
       "      <td>198.7020</td>\n",
       "      <td>192.1590</td>\n",
       "      <td>193.4000</td>\n",
       "      <td>3.758431e+07</td>\n",
       "    </tr>\n",
       "    <tr>\n",
       "      <th>2019-06-24</th>\n",
       "      <td>132.2950</td>\n",
       "      <td>133.6460</td>\n",
       "      <td>132.2950</td>\n",
       "      <td>133.0410</td>\n",
       "      <td>2.136221e+07</td>\n",
       "    </tr>\n",
       "    <tr>\n",
       "      <th>2016-06-24</th>\n",
       "      <td>45.2880</td>\n",
       "      <td>46.3195</td>\n",
       "      <td>45.0279</td>\n",
       "      <td>45.3079</td>\n",
       "      <td>6.924024e+07</td>\n",
       "    </tr>\n",
       "    <tr>\n",
       "      <th>2015-06-24</th>\n",
       "      <td>40.4055</td>\n",
       "      <td>40.9049</td>\n",
       "      <td>40.2993</td>\n",
       "      <td>40.3688</td>\n",
       "      <td>3.943777e+07</td>\n",
       "    </tr>\n",
       "    <tr>\n",
       "      <th>2014-06-24</th>\n",
       "      <td>36.0543</td>\n",
       "      <td>36.1496</td>\n",
       "      <td>35.8229</td>\n",
       "      <td>35.9768</td>\n",
       "      <td>3.076506e+07</td>\n",
       "    </tr>\n",
       "    <tr>\n",
       "      <th>2013-06-24</th>\n",
       "      <td>27.5790</td>\n",
       "      <td>28.6334</td>\n",
       "      <td>27.2693</td>\n",
       "      <td>28.2322</td>\n",
       "      <td>6.702098e+07</td>\n",
       "    </tr>\n",
       "    <tr>\n",
       "      <th>2011-06-24</th>\n",
       "      <td>19.3956</td>\n",
       "      <td>19.4106</td>\n",
       "      <td>19.1306</td>\n",
       "      <td>19.2199</td>\n",
       "      <td>1.277721e+08</td>\n",
       "    </tr>\n",
       "    <tr>\n",
       "      <th>2010-06-24</th>\n",
       "      <td>20.0042</td>\n",
       "      <td>20.2097</td>\n",
       "      <td>19.5902</td>\n",
       "      <td>19.6428</td>\n",
       "      <td>1.084422e+08</td>\n",
       "    </tr>\n",
       "  </tbody>\n",
       "</table>\n",
       "</div>"
      ],
      "text/plain": [
       "                Open      High       Low     Close        Volume\n",
       "Date                                                            \n",
       "2020-06-24  197.0840  198.7020  192.1590  193.4000  3.758431e+07\n",
       "2019-06-24  132.2950  133.6460  132.2950  133.0410  2.136221e+07\n",
       "2016-06-24   45.2880   46.3195   45.0279   45.3079  6.924024e+07\n",
       "2015-06-24   40.4055   40.9049   40.2993   40.3688  3.943777e+07\n",
       "2014-06-24   36.0543   36.1496   35.8229   35.9768  3.076506e+07\n",
       "2013-06-24   27.5790   28.6334   27.2693   28.2322  6.702098e+07\n",
       "2011-06-24   19.3956   19.4106   19.1306   19.2199  1.277721e+08\n",
       "2010-06-24   20.0042   20.2097   19.5902   19.6428  1.084422e+08"
      ]
     },
     "execution_count": 17,
     "metadata": {},
     "output_type": "execute_result"
    }
   ],
   "source": [
    "stocks[birthday_stocks]"
   ]
  },
  {
   "cell_type": "code",
   "execution_count": 18,
   "id": "4af1fa8f",
   "metadata": {},
   "outputs": [
    {
     "data": {
      "text/html": [
       "<div>\n",
       "<style scoped>\n",
       "    .dataframe tbody tr th:only-of-type {\n",
       "        vertical-align: middle;\n",
       "    }\n",
       "\n",
       "    .dataframe tbody tr th {\n",
       "        vertical-align: top;\n",
       "    }\n",
       "\n",
       "    .dataframe thead th {\n",
       "        text-align: right;\n",
       "    }\n",
       "</style>\n",
       "<table border=\"1\" class=\"dataframe\">\n",
       "  <thead>\n",
       "    <tr style=\"text-align: right;\">\n",
       "      <th></th>\n",
       "      <th>Open</th>\n",
       "      <th>High</th>\n",
       "      <th>Low</th>\n",
       "      <th>Close</th>\n",
       "      <th>Volume</th>\n",
       "    </tr>\n",
       "    <tr>\n",
       "      <th>Date</th>\n",
       "      <th></th>\n",
       "      <th></th>\n",
       "      <th></th>\n",
       "      <th></th>\n",
       "      <th></th>\n",
       "    </tr>\n",
       "  </thead>\n",
       "  <tbody>\n",
       "    <tr>\n",
       "      <th>2020-12-31</th>\n",
       "      <td>217.822</td>\n",
       "      <td>219.104</td>\n",
       "      <td>215.838</td>\n",
       "      <td>218.528</td>\n",
       "      <td>2.131555e+07</td>\n",
       "    </tr>\n",
       "    <tr>\n",
       "      <th>2020-12-30</th>\n",
       "      <td>221.277</td>\n",
       "      <td>221.674</td>\n",
       "      <td>217.595</td>\n",
       "      <td>217.802</td>\n",
       "      <td>2.063381e+07</td>\n",
       "    </tr>\n",
       "    <tr>\n",
       "      <th>2020-12-29</th>\n",
       "      <td>222.350</td>\n",
       "      <td>223.214</td>\n",
       "      <td>219.659</td>\n",
       "      <td>220.205</td>\n",
       "      <td>1.771353e+07</td>\n",
       "    </tr>\n",
       "  </tbody>\n",
       "</table>\n",
       "</div>"
      ],
      "text/plain": [
       "               Open     High      Low    Close        Volume\n",
       "Date                                                        \n",
       "2020-12-31  217.822  219.104  215.838  218.528  2.131555e+07\n",
       "2020-12-30  221.277  221.674  217.595  217.802  2.063381e+07\n",
       "2020-12-29  222.350  223.214  219.659  220.205  1.771353e+07"
      ]
     },
     "execution_count": 18,
     "metadata": {},
     "output_type": "execute_result"
    }
   ],
   "source": [
    "stocks = data.DataReader(name=\"MSFT\", data_source = \"stooq\", start = \"2010-01-01\", end=\"2020-12-31\")\n",
    "stocks.head(3)"
   ]
  },
  {
   "cell_type": "code",
   "execution_count": 19,
   "id": "41df560d",
   "metadata": {},
   "outputs": [],
   "source": [
    "someday=stocks.index[500]"
   ]
  },
  {
   "cell_type": "code",
   "execution_count": 21,
   "id": "c796d5fb",
   "metadata": {},
   "outputs": [
    {
     "data": {
      "text/plain": [
       "1"
      ]
     },
     "execution_count": 21,
     "metadata": {},
     "output_type": "execute_result"
    }
   ],
   "source": [
    "someday.month"
   ]
  },
  {
   "cell_type": "code",
   "execution_count": null,
   "id": "b334c5ee",
   "metadata": {},
   "outputs": [],
   "source": []
  }
 ],
 "metadata": {
  "kernelspec": {
   "display_name": "Python 3 (ipykernel)",
   "language": "python",
   "name": "python3"
  },
  "language_info": {
   "codemirror_mode": {
    "name": "ipython",
    "version": 3
   },
   "file_extension": ".py",
   "mimetype": "text/x-python",
   "name": "python",
   "nbconvert_exporter": "python",
   "pygments_lexer": "ipython3",
   "version": "3.11.3"
  }
 },
 "nbformat": 4,
 "nbformat_minor": 5
}
